{
 "cells": [
  {
   "cell_type": "code",
   "execution_count": null,
   "metadata": {
    "collapsed": true
   },
   "outputs": [],
   "source": [
    "import requests\n",
    "import json\n",
    "\n",
    "def get_iterate(endpoint, b64_creds, objectname, api_key):\n",
    "    initial_url = 'https://api.netilion.endress.com/v1' + endpoint\n",
    "    auth_hdr = \"Basic: \" + b64_creds\n",
    "    \n",
    "    headers_get={'Accept': 'application/json', 'Api-key': api_key, 'Authorization': auth_hdr}\n",
    "    response_get = requests.get(initial_url, headers=headers_get, verify=True)\n",
    "\n",
    "    if response_get.status_code == 200:\n",
    "        response_get_json = response_get.json()\n",
    "        data = []\n",
    "        for obj in response_get_json[objectname]:\n",
    "            data.append(obj)\n",
    "        if 'next' in response_get_json['pagination']:\n",
    "            next_url = response_get_json['pagination']['next']\n",
    "            while 'next' in response_get_json['pagination']:\n",
    "                response_get = requests.get(next_url, headers=headers_get, verify=True)\n",
    "                response_get_json = response_get.json()\n",
    "                for obj in response_get_json[objectname]:\n",
    "                    data.append(obj)\n",
    "                if 'next' in response_get_json['pagination']:\n",
    "                    next_url = response_get_json['pagination']['next']\n",
    "        return data\n",
    "    else:\n",
    "        data = [{\"msg\":\"Error\",\"status_code\": response_get.status_code}]\n",
    "        return data\n",
    "\n",
    "values_json = get_iterate('/instrumentations/123/values/PV','b64_credentials','data','api-key')\n",
    "#print(values_json)"
   ]
  },
  {
   "cell_type": "code",
   "execution_count": 2,
   "metadata": {},
   "outputs": [
    {
     "data": {
      "text/html": [
       "<div>\n",
       "<style scoped>\n",
       "    .dataframe tbody tr th:only-of-type {\n",
       "        vertical-align: middle;\n",
       "    }\n",
       "\n",
       "    .dataframe tbody tr th {\n",
       "        vertical-align: top;\n",
       "    }\n",
       "\n",
       "    .dataframe thead th {\n",
       "        text-align: right;\n",
       "    }\n",
       "</style>\n",
       "<table border=\"1\" class=\"dataframe\">\n",
       "  <thead>\n",
       "    <tr style=\"text-align: right;\">\n",
       "      <th></th>\n",
       "      <th>timestamp</th>\n",
       "      <th>value</th>\n",
       "    </tr>\n",
       "  </thead>\n",
       "  <tbody>\n",
       "    <tr>\n",
       "      <th>0</th>\n",
       "      <td>2021-04-29T16:45:03Z</td>\n",
       "      <td>98.524983</td>\n",
       "    </tr>\n",
       "    <tr>\n",
       "      <th>1</th>\n",
       "      <td>2021-04-29T16:52:34Z</td>\n",
       "      <td>96.440881</td>\n",
       "    </tr>\n",
       "    <tr>\n",
       "      <th>2</th>\n",
       "      <td>2021-04-29T17:00:04Z</td>\n",
       "      <td>98.300324</td>\n",
       "    </tr>\n",
       "    <tr>\n",
       "      <th>3</th>\n",
       "      <td>2021-04-29T17:07:35Z</td>\n",
       "      <td>96.694324</td>\n",
       "    </tr>\n",
       "    <tr>\n",
       "      <th>4</th>\n",
       "      <td>2021-04-29T17:15:05Z</td>\n",
       "      <td>96.677171</td>\n",
       "    </tr>\n",
       "  </tbody>\n",
       "</table>\n",
       "</div>"
      ],
      "text/plain": [
       "              timestamp      value\n",
       "0  2021-04-29T16:45:03Z  98.524983\n",
       "1  2021-04-29T16:52:34Z  96.440881\n",
       "2  2021-04-29T17:00:04Z  98.300324\n",
       "3  2021-04-29T17:07:35Z  96.694324\n",
       "4  2021-04-29T17:15:05Z  96.677171"
      ]
     },
     "execution_count": 2,
     "metadata": {},
     "output_type": "execute_result"
    }
   ],
   "source": [
    "import pandas as pd\n",
    "from pandas import to_datetime\n",
    "\n",
    "%matplotlib inline\n",
    "from matplotlib import pyplot\n",
    "\n",
    "df = pd.DataFrame()\n",
    "df = df.append(values_json)\n",
    "df.head()"
   ]
  },
  {
   "cell_type": "code",
   "execution_count": 3,
   "metadata": {},
   "outputs": [
    {
     "data": {
      "text/html": [
       "<div>\n",
       "<style scoped>\n",
       "    .dataframe tbody tr th:only-of-type {\n",
       "        vertical-align: middle;\n",
       "    }\n",
       "\n",
       "    .dataframe tbody tr th {\n",
       "        vertical-align: top;\n",
       "    }\n",
       "\n",
       "    .dataframe thead th {\n",
       "        text-align: right;\n",
       "    }\n",
       "</style>\n",
       "<table border=\"1\" class=\"dataframe\">\n",
       "  <thead>\n",
       "    <tr style=\"text-align: right;\">\n",
       "      <th></th>\n",
       "      <th>timestamp</th>\n",
       "      <th>value</th>\n",
       "    </tr>\n",
       "    <tr>\n",
       "      <th>Datetime</th>\n",
       "      <th></th>\n",
       "      <th></th>\n",
       "    </tr>\n",
       "  </thead>\n",
       "  <tbody>\n",
       "    <tr>\n",
       "      <th>2021-04-29 16:45:03+00:00</th>\n",
       "      <td>2021-04-29T16:45:03Z</td>\n",
       "      <td>98.524983</td>\n",
       "    </tr>\n",
       "    <tr>\n",
       "      <th>2021-04-29 16:52:34+00:00</th>\n",
       "      <td>2021-04-29T16:52:34Z</td>\n",
       "      <td>96.440881</td>\n",
       "    </tr>\n",
       "    <tr>\n",
       "      <th>2021-04-29 17:00:04+00:00</th>\n",
       "      <td>2021-04-29T17:00:04Z</td>\n",
       "      <td>98.300324</td>\n",
       "    </tr>\n",
       "    <tr>\n",
       "      <th>2021-04-29 17:07:35+00:00</th>\n",
       "      <td>2021-04-29T17:07:35Z</td>\n",
       "      <td>96.694324</td>\n",
       "    </tr>\n",
       "    <tr>\n",
       "      <th>2021-04-29 17:15:05+00:00</th>\n",
       "      <td>2021-04-29T17:15:05Z</td>\n",
       "      <td>96.677171</td>\n",
       "    </tr>\n",
       "  </tbody>\n",
       "</table>\n",
       "</div>"
      ],
      "text/plain": [
       "                                      timestamp      value\n",
       "Datetime                                                  \n",
       "2021-04-29 16:45:03+00:00  2021-04-29T16:45:03Z  98.524983\n",
       "2021-04-29 16:52:34+00:00  2021-04-29T16:52:34Z  96.440881\n",
       "2021-04-29 17:00:04+00:00  2021-04-29T17:00:04Z  98.300324\n",
       "2021-04-29 17:07:35+00:00  2021-04-29T17:07:35Z  96.694324\n",
       "2021-04-29 17:15:05+00:00  2021-04-29T17:15:05Z  96.677171"
      ]
     },
     "execution_count": 3,
     "metadata": {},
     "output_type": "execute_result"
    }
   ],
   "source": [
    "df['Datetime'] = pd.to_datetime(df['timestamp'])\n",
    "df = df.set_index('Datetime')\n",
    "df.head()"
   ]
  },
  {
   "cell_type": "code",
   "execution_count": 5,
   "metadata": {},
   "outputs": [
    {
     "data": {
      "text/html": [
       "<div>\n",
       "<style scoped>\n",
       "    .dataframe tbody tr th:only-of-type {\n",
       "        vertical-align: middle;\n",
       "    }\n",
       "\n",
       "    .dataframe tbody tr th {\n",
       "        vertical-align: top;\n",
       "    }\n",
       "\n",
       "    .dataframe thead th {\n",
       "        text-align: right;\n",
       "    }\n",
       "</style>\n",
       "<table border=\"1\" class=\"dataframe\">\n",
       "  <thead>\n",
       "    <tr style=\"text-align: right;\">\n",
       "      <th></th>\n",
       "      <th>timestamp</th>\n",
       "      <th>value</th>\n",
       "    </tr>\n",
       "    <tr>\n",
       "      <th>Datetime</th>\n",
       "      <th></th>\n",
       "      <th></th>\n",
       "    </tr>\n",
       "  </thead>\n",
       "  <tbody>\n",
       "    <tr>\n",
       "      <th>2021-04-29 16:40:00+00:00</th>\n",
       "      <td>2021-04-29T16:45:03Z</td>\n",
       "      <td>98.524983</td>\n",
       "    </tr>\n",
       "    <tr>\n",
       "      <th>2021-04-29 16:50:00+00:00</th>\n",
       "      <td>2021-04-29T16:52:34Z</td>\n",
       "      <td>96.440881</td>\n",
       "    </tr>\n",
       "    <tr>\n",
       "      <th>2021-04-29 17:00:00+00:00</th>\n",
       "      <td>2021-04-29T17:00:04Z</td>\n",
       "      <td>98.300324</td>\n",
       "    </tr>\n",
       "    <tr>\n",
       "      <th>2021-04-29 17:10:00+00:00</th>\n",
       "      <td>2021-04-29T17:07:35Z</td>\n",
       "      <td>96.694324</td>\n",
       "    </tr>\n",
       "    <tr>\n",
       "      <th>2021-04-29 17:20:00+00:00</th>\n",
       "      <td>2021-04-29T17:22:36Z</td>\n",
       "      <td>97.007416</td>\n",
       "    </tr>\n",
       "  </tbody>\n",
       "</table>\n",
       "</div>"
      ],
      "text/plain": [
       "                                      timestamp      value\n",
       "Datetime                                                  \n",
       "2021-04-29 16:40:00+00:00  2021-04-29T16:45:03Z  98.524983\n",
       "2021-04-29 16:50:00+00:00  2021-04-29T16:52:34Z  96.440881\n",
       "2021-04-29 17:00:00+00:00  2021-04-29T17:00:04Z  98.300324\n",
       "2021-04-29 17:10:00+00:00  2021-04-29T17:07:35Z  96.694324\n",
       "2021-04-29 17:20:00+00:00  2021-04-29T17:22:36Z  97.007416"
      ]
     },
     "execution_count": 5,
     "metadata": {},
     "output_type": "execute_result"
    }
   ],
   "source": [
    "df = df.resample('10T').fillna(\"nearest\")\n",
    "df.head()"
   ]
  },
  {
   "cell_type": "code",
   "execution_count": 6,
   "metadata": {
    "scrolled": true
   },
   "outputs": [
    {
     "data": {
      "text/plain": [
       "<matplotlib.axes._subplots.AxesSubplot at 0x1b8caa6dc88>"
      ]
     },
     "execution_count": 6,
     "metadata": {},
     "output_type": "execute_result"
    },
    {
     "data": {
      "image/png": "[encoded data removed]",
      "text/plain": [
       "<matplotlib.figure.Figure at 0x1b8caa6d2b0>"
      ]
     },
     "metadata": {},
     "output_type": "display_data"
    }
   ],
   "source": [
    "df.plot()"
   ]
  },
  {
   "cell_type": "code",
   "execution_count": 7,
   "metadata": {
    "scrolled": true
   },
   "outputs": [
    {
     "data": {
      "image/png": "[encoded data removed]",
      "text/plain": [
       "<matplotlib.figure.Figure at 0x1b8cad17400>"
      ]
     },
     "metadata": {},
     "output_type": "display_data"
    }
   ],
   "source": [
    "df['Ticks'] = range(0,len(df.index.values))\n",
    "df = df.reset_index()\n",
    "df['rolling_mean'] = df['value'].rolling(window = 15, min_periods=1).mean()\n",
    "fig = pyplot.figure();\n",
    "ax = fig.add_subplot(111);\n",
    "ax.plot(df.index,df['rolling_mean'], color = (0,0,0), linewidth = 4, label = 'Smoothed');\n",
    "ax.legend(loc='lower left');"
   ]
  },
  {
   "cell_type": "code",
   "execution_count": 8,
   "metadata": {},
   "outputs": [
    {
     "data": {
      "text/html": [
       "<div>\n",
       "<style scoped>\n",
       "    .dataframe tbody tr th:only-of-type {\n",
       "        vertical-align: middle;\n",
       "    }\n",
       "\n",
       "    .dataframe tbody tr th {\n",
       "        vertical-align: top;\n",
       "    }\n",
       "\n",
       "    .dataframe thead th {\n",
       "        text-align: right;\n",
       "    }\n",
       "</style>\n",
       "<table border=\"1\" class=\"dataframe\">\n",
       "  <thead>\n",
       "    <tr style=\"text-align: right;\">\n",
       "      <th></th>\n",
       "      <th>Datetime</th>\n",
       "      <th>timestamp</th>\n",
       "      <th>value</th>\n",
       "      <th>Ticks</th>\n",
       "      <th>rolling_mean</th>\n",
       "    </tr>\n",
       "  </thead>\n",
       "  <tbody>\n",
       "    <tr>\n",
       "      <th>0</th>\n",
       "      <td>2021-04-29 16:40:00+00:00</td>\n",
       "      <td>2021-04-29T16:45:03Z</td>\n",
       "      <td>98.524983</td>\n",
       "      <td>0</td>\n",
       "      <td>98.524983</td>\n",
       "    </tr>\n",
       "    <tr>\n",
       "      <th>1</th>\n",
       "      <td>2021-04-29 16:50:00+00:00</td>\n",
       "      <td>2021-04-29T16:52:34Z</td>\n",
       "      <td>96.440881</td>\n",
       "      <td>1</td>\n",
       "      <td>97.482932</td>\n",
       "    </tr>\n",
       "    <tr>\n",
       "      <th>2</th>\n",
       "      <td>2021-04-29 17:00:00+00:00</td>\n",
       "      <td>2021-04-29T17:00:04Z</td>\n",
       "      <td>98.300324</td>\n",
       "      <td>2</td>\n",
       "      <td>97.755396</td>\n",
       "    </tr>\n",
       "    <tr>\n",
       "      <th>3</th>\n",
       "      <td>2021-04-29 17:10:00+00:00</td>\n",
       "      <td>2021-04-29T17:07:35Z</td>\n",
       "      <td>96.694324</td>\n",
       "      <td>3</td>\n",
       "      <td>97.490128</td>\n",
       "    </tr>\n",
       "    <tr>\n",
       "      <th>4</th>\n",
       "      <td>2021-04-29 17:20:00+00:00</td>\n",
       "      <td>2021-04-29T17:22:36Z</td>\n",
       "      <td>97.007416</td>\n",
       "      <td>4</td>\n",
       "      <td>97.393586</td>\n",
       "    </tr>\n",
       "  </tbody>\n",
       "</table>\n",
       "</div>"
      ],
      "text/plain": [
       "                   Datetime             timestamp      value  Ticks  \\\n",
       "0 2021-04-29 16:40:00+00:00  2021-04-29T16:45:03Z  98.524983      0   \n",
       "1 2021-04-29 16:50:00+00:00  2021-04-29T16:52:34Z  96.440881      1   \n",
       "2 2021-04-29 17:00:00+00:00  2021-04-29T17:00:04Z  98.300324      2   \n",
       "3 2021-04-29 17:10:00+00:00  2021-04-29T17:07:35Z  96.694324      3   \n",
       "4 2021-04-29 17:20:00+00:00  2021-04-29T17:22:36Z  97.007416      4   \n",
       "\n",
       "   rolling_mean  \n",
       "0     98.524983  \n",
       "1     97.482932  \n",
       "2     97.755396  \n",
       "3     97.490128  \n",
       "4     97.393586  "
      ]
     },
     "execution_count": 8,
     "metadata": {},
     "output_type": "execute_result"
    }
   ],
   "source": [
    "df.head()"
   ]
  },
  {
   "cell_type": "code",
   "execution_count": 12,
   "metadata": {},
   "outputs": [
    {
     "name": "stderr",
     "output_type": "stream",
     "text": [
      "C:\\Users\\i02401253\\AppData\\Local\\Continuum\\anaconda3\\lib\\site-packages\\sklearn\\linear_model\\coordinate_descent.py:1094: DataConversionWarning: A column-vector y was passed when a 1d array was expected. Please change the shape of y to (n_samples, ), for example using ravel().\n",
      "  y = column_or_1d(y, warn=True)\n"
     ]
    }
   ],
   "source": [
    "from sklearn.cross_validation import train_test_split\n",
    "X_train, X_test, y_train, y_test = train_test_split(df['Ticks'].values.reshape(-1, 1), df['rolling_mean'].values.reshape(-1, 1),test_size=0.2)\n",
    "from sklearn.linear_model import LassoCV\n",
    "from sklearn.preprocessing import PolynomialFeatures\n",
    "from sklearn.pipeline import make_pipeline\n",
    "lasso_eps = 0.0001\n",
    "lasso_nalpha=20\n",
    "lasso_iter=5000\n",
    "model_poly = make_pipeline(PolynomialFeatures(2, interaction_only=False), LassoCV(eps=lasso_eps,n_alphas=lasso_nalpha,max_iter=lasso_iter,\n",
    "normalize=True,cv=5))\n",
    "model_poly.fit(X_train,y_train)\n",
    "\n",
    "#for reference: linear model as comparison\n",
    "from sklearn.linear_model import LinearRegression\n",
    "model_linear = LinearRegression().fit(df['Ticks'].values.reshape(-1, 1),df['rolling_mean'].values.reshape(-1, 1))"
   ]
  },
  {
   "cell_type": "code",
   "execution_count": 13,
   "metadata": {
    "collapsed": true
   },
   "outputs": [],
   "source": [
    "df['predictions_poly'] = model_poly.predict(df['Ticks'].values.reshape(-1,1))\n",
    "df['predictions_linear'] = model_linear.predict(df['Ticks'].values.reshape(-1,1))"
   ]
  },
  {
   "cell_type": "code",
   "execution_count": 14,
   "metadata": {},
   "outputs": [
    {
     "data": {
      "image/png": "[encoded data removed]",
      "text/plain": [
       "<matplotlib.figure.Figure at 0x1b8db172278>"
      ]
     },
     "metadata": {},
     "output_type": "display_data"
    }
   ],
   "source": [
    "fig2 = pyplot.figure();\n",
    "ax = fig2.add_subplot(111);\n",
    "ax.plot(df.index,df['predictions_poly'], color = (1,0,0), label = 'Predictions Polynomial Regression');\n",
    "ax.plot(df.index,df['predictions_linear'], color = (0,0,1), label = 'Predictions Linear Regression');\n",
    "ax.plot(df.index,df['rolling_mean'], color = (0,0,0), linewidth = 1, label = 'Smoothed');\n",
    "ax.legend(loc='lower left');"
   ]
  },
  {
   "cell_type": "code",
   "execution_count": 13,
   "metadata": {},
   "outputs": [
    {
     "name": "stdout",
     "output_type": "stream",
     "text": [
      "0.9987917216718784\n"
     ]
    }
   ],
   "source": [
    "import numpy as np\n",
    "test_pred = np.array(model_poly.predict(X_test))\n",
    "test_score = model_poly.score(X_test,y_test)\n",
    "print(test_score)"
   ]
  },
  {
   "cell_type": "code",
   "execution_count": 18,
   "metadata": {},
   "outputs": [
    {
     "data": {
      "text/plain": [
       "0.9983218090226977"
      ]
     },
     "execution_count": 18,
     "metadata": {},
     "output_type": "execute_result"
    }
   ],
   "source": [
    "import sklearn \n",
    "\n",
    "r_squared = sklearn.metrics.r2_score(df['rolling_mean'],df['predictions_poly'],multioutput='uniform_average')\n",
    "r_squared"
   ]
  },
  {
   "cell_type": "code",
   "execution_count": 15,
   "metadata": {},
   "outputs": [
    {
     "data": {
      "text/html": [
       "<div>\n",
       "<style scoped>\n",
       "    .dataframe tbody tr th:only-of-type {\n",
       "        vertical-align: middle;\n",
       "    }\n",
       "\n",
       "    .dataframe tbody tr th {\n",
       "        vertical-align: top;\n",
       "    }\n",
       "\n",
       "    .dataframe thead th {\n",
       "        text-align: right;\n",
       "    }\n",
       "</style>\n",
       "<table border=\"1\" class=\"dataframe\">\n",
       "  <thead>\n",
       "    <tr style=\"text-align: right;\">\n",
       "      <th></th>\n",
       "      <th>index</th>\n",
       "      <th>Datetime</th>\n",
       "      <th>timestamp</th>\n",
       "      <th>value</th>\n",
       "      <th>Ticks</th>\n",
       "      <th>rolling_mean</th>\n",
       "      <th>predictions_poly</th>\n",
       "      <th>predictions_linear</th>\n",
       "    </tr>\n",
       "  </thead>\n",
       "  <tbody>\n",
       "    <tr>\n",
       "      <th>0</th>\n",
       "      <td>0</td>\n",
       "      <td>2021-04-29 16:40:00+00:00</td>\n",
       "      <td>2021-04-29T16:45:03Z</td>\n",
       "      <td>98.524983</td>\n",
       "      <td>0.0</td>\n",
       "      <td>98.524983</td>\n",
       "      <td>100.970101</td>\n",
       "      <td>95.426269</td>\n",
       "    </tr>\n",
       "    <tr>\n",
       "      <th>1</th>\n",
       "      <td>1</td>\n",
       "      <td>2021-04-29 16:50:00+00:00</td>\n",
       "      <td>2021-04-29T16:52:34Z</td>\n",
       "      <td>96.440881</td>\n",
       "      <td>1.0</td>\n",
       "      <td>97.482932</td>\n",
       "      <td>100.476145</td>\n",
       "      <td>95.124144</td>\n",
       "    </tr>\n",
       "    <tr>\n",
       "      <th>2</th>\n",
       "      <td>2</td>\n",
       "      <td>2021-04-29 17:00:00+00:00</td>\n",
       "      <td>2021-04-29T17:00:04Z</td>\n",
       "      <td>98.300324</td>\n",
       "      <td>2.0</td>\n",
       "      <td>97.755396</td>\n",
       "      <td>99.984436</td>\n",
       "      <td>94.822018</td>\n",
       "    </tr>\n",
       "    <tr>\n",
       "      <th>3</th>\n",
       "      <td>3</td>\n",
       "      <td>2021-04-29 17:10:00+00:00</td>\n",
       "      <td>2021-04-29T17:07:35Z</td>\n",
       "      <td>96.694324</td>\n",
       "      <td>3.0</td>\n",
       "      <td>97.490128</td>\n",
       "      <td>99.494972</td>\n",
       "      <td>94.519893</td>\n",
       "    </tr>\n",
       "    <tr>\n",
       "      <th>4</th>\n",
       "      <td>4</td>\n",
       "      <td>2021-04-29 17:20:00+00:00</td>\n",
       "      <td>2021-04-29T17:22:36Z</td>\n",
       "      <td>97.007416</td>\n",
       "      <td>4.0</td>\n",
       "      <td>97.393586</td>\n",
       "      <td>99.007754</td>\n",
       "      <td>94.217767</td>\n",
       "    </tr>\n",
       "    <tr>\n",
       "      <th>...</th>\n",
       "      <td>...</td>\n",
       "      <td>...</td>\n",
       "      <td>...</td>\n",
       "      <td>...</td>\n",
       "      <td>...</td>\n",
       "      <td>...</td>\n",
       "      <td>...</td>\n",
       "      <td>...</td>\n",
       "    </tr>\n",
       "    <tr>\n",
       "      <th>267</th>\n",
       "      <td>267</td>\n",
       "      <td>NaT</td>\n",
       "      <td>NaN</td>\n",
       "      <td>NaN</td>\n",
       "      <td>267.0</td>\n",
       "      <td>NaN</td>\n",
       "      <td>NaN</td>\n",
       "      <td>NaN</td>\n",
       "    </tr>\n",
       "    <tr>\n",
       "      <th>268</th>\n",
       "      <td>268</td>\n",
       "      <td>NaT</td>\n",
       "      <td>NaN</td>\n",
       "      <td>NaN</td>\n",
       "      <td>268.0</td>\n",
       "      <td>NaN</td>\n",
       "      <td>NaN</td>\n",
       "      <td>NaN</td>\n",
       "    </tr>\n",
       "    <tr>\n",
       "      <th>269</th>\n",
       "      <td>269</td>\n",
       "      <td>NaT</td>\n",
       "      <td>NaN</td>\n",
       "      <td>NaN</td>\n",
       "      <td>269.0</td>\n",
       "      <td>NaN</td>\n",
       "      <td>NaN</td>\n",
       "      <td>NaN</td>\n",
       "    </tr>\n",
       "    <tr>\n",
       "      <th>270</th>\n",
       "      <td>270</td>\n",
       "      <td>NaT</td>\n",
       "      <td>NaN</td>\n",
       "      <td>NaN</td>\n",
       "      <td>270.0</td>\n",
       "      <td>NaN</td>\n",
       "      <td>NaN</td>\n",
       "      <td>NaN</td>\n",
       "    </tr>\n",
       "    <tr>\n",
       "      <th>271</th>\n",
       "      <td>271</td>\n",
       "      <td>NaT</td>\n",
       "      <td>NaN</td>\n",
       "      <td>NaN</td>\n",
       "      <td>271.0</td>\n",
       "      <td>NaN</td>\n",
       "      <td>NaN</td>\n",
       "      <td>NaN</td>\n",
       "    </tr>\n",
       "  </tbody>\n",
       "</table>\n",
       "<p>272 rows × 8 columns</p>\n",
       "</div>"
      ],
      "text/plain": [
       "     index                  Datetime             timestamp      value  Ticks  \\\n",
       "0        0 2021-04-29 16:40:00+00:00  2021-04-29T16:45:03Z  98.524983    0.0   \n",
       "1        1 2021-04-29 16:50:00+00:00  2021-04-29T16:52:34Z  96.440881    1.0   \n",
       "2        2 2021-04-29 17:00:00+00:00  2021-04-29T17:00:04Z  98.300324    2.0   \n",
       "3        3 2021-04-29 17:10:00+00:00  2021-04-29T17:07:35Z  96.694324    3.0   \n",
       "4        4 2021-04-29 17:20:00+00:00  2021-04-29T17:22:36Z  97.007416    4.0   \n",
       "..     ...                       ...                   ...        ...    ...   \n",
       "267    267                       NaT                   NaN        NaN  267.0   \n",
       "268    268                       NaT                   NaN        NaN  268.0   \n",
       "269    269                       NaT                   NaN        NaN  269.0   \n",
       "270    270                       NaT                   NaN        NaN  270.0   \n",
       "271    271                       NaT                   NaN        NaN  271.0   \n",
       "\n",
       "     rolling_mean  predictions_poly  predictions_linear  \n",
       "0       98.524983        100.970101           95.426269  \n",
       "1       97.482932        100.476145           95.124144  \n",
       "2       97.755396         99.984436           94.822018  \n",
       "3       97.490128         99.494972           94.519893  \n",
       "4       97.393586         99.007754           94.217767  \n",
       "..            ...               ...                 ...  \n",
       "267           NaN               NaN                 NaN  \n",
       "268           NaN               NaN                 NaN  \n",
       "269           NaN               NaN                 NaN  \n",
       "270           NaN               NaN                 NaN  \n",
       "271           NaN               NaN                 NaN  \n",
       "\n",
       "[272 rows x 8 columns]"
      ]
     },
     "execution_count": 15,
     "metadata": {},
     "output_type": "execute_result"
    }
   ],
   "source": [
    "counter = df.index.max()\n",
    "df2 = pd.DataFrame(columns=['Ticks'])\n",
    "for i in range(100):\n",
    "    number = counter + i + 1\n",
    "    df2 = df2.append({'Ticks': number}, ignore_index=True)\n",
    "#df2\n",
    "df3 = pd.merge(df, df2, on='Ticks', how='outer')\n",
    "df3.reset_index()\n",
    "#df3"
   ]
  },
  {
   "cell_type": "code",
   "execution_count": 16,
   "metadata": {
    "collapsed": true
   },
   "outputs": [],
   "source": [
    "df3['predictions_poly'] = model_poly.predict(df3['Ticks'].values.reshape(-1,1))\n",
    "#df3.head()"
   ]
  },
  {
   "cell_type": "code",
   "execution_count": 17,
   "metadata": {},
   "outputs": [
    {
     "data": {
      "image/png": "[encoded data removed]",
      "text/plain": [
       "<matplotlib.figure.Figure at 0x1b8caa19f60>"
      ]
     },
     "metadata": {},
     "output_type": "display_data"
    }
   ],
   "source": [
    "fig3 = pyplot.figure();\n",
    "ax = fig3.add_subplot(111);\n",
    "ax.plot(df3.index,df3['predictions_poly'], color = (1,0,0), label = 'Predictions & Forecast');\n",
    "ax.plot(df3.index,df3['rolling_mean'], color = (0,0,0), linewidth = 1, label = 'Smoothed');\n",
    "ax.legend(loc='lower left');"
   ]
  },
  {
   "cell_type": "code",
   "execution_count": null,
   "metadata": {
    "collapsed": true
   },
   "outputs": [],
   "source": []
  }
 ],
 "metadata": {
  "kernelspec": {
   "display_name": "Python 3",
   "language": "python",
   "name": "python3"
  },
  "language_info": {
   "codemirror_mode": {
    "name": "ipython",
    "version": 3
   },
   "file_extension": ".py",
   "mimetype": "text/x-python",
   "name": "python",
   "nbconvert_exporter": "python",
   "pygments_lexer": "ipython3",
   "version": "3.6.3"
  },
  "toc": {
   "base_numbering": 1,
   "nav_menu": {},
   "number_sections": true,
   "sideBar": true,
   "skip_h1_title": false,
   "title_cell": "Table of Contents",
   "title_sidebar": "Contents",
   "toc_cell": false,
   "toc_position": {},
   "toc_section_display": true,
   "toc_window_display": false
  }
 },
 "nbformat": 4,
 "nbformat_minor": 2
}
